{
 "cells": [
  {
   "cell_type": "markdown",
   "metadata": {
    "id": "fTHck9JJ2UG6"
   },
   "source": [
    "<center><h1> Uvod u podatkovnu znanost  </h1></center>\n",
    "<center><h2> Zimski semestar - 2022 </h2></center> \n",
    "<center><h3> Lab 2</h3></center> \n",
    "<center><h3> </h3></center> \n",
    "<center><h3> NumPy, Matplotlib</h3></center> \n",
    "\n"
   ]
  },
  {
   "cell_type": "markdown",
   "metadata": {
    "id": "dhNcWgxaBJuz"
   },
   "source": [
    "## NUMPY"
   ]
  },
  {
   "cell_type": "markdown",
   "metadata": {
    "id": "2B7qsN1X118_"
   },
   "source": [
    "### Instalacija\n",
    "Na Google colab numpy je već instaliran"
   ]
  },
  {
   "cell_type": "code",
   "execution_count": 2,
   "metadata": {
    "id": "uVx-mfQ66K3x"
   },
   "outputs": [
    {
     "name": "stdout",
     "output_type": "stream",
     "text": [
      "Defaulting to user installation because normal site-packages is not writeable\n",
      "Collecting numpy\n",
      "  Downloading numpy-1.19.5-cp36-cp36m-manylinux2010_x86_64.whl (14.8 MB)\n",
      "     |████████████████████████████████| 14.8 MB 3.1 MB/s            ��██████████████████████▌      | 11.8 MB 3.1 MB/s eta 0:00:01\n",
      "\u001b[?25hInstalling collected packages: numpy\n",
      "\u001b[33m  WARNING: The scripts f2py, f2py3 and f2py3.6 are installed in '/home/dzoric00.fesb.hr/.local/bin' which is not on PATH.\n",
      "  Consider adding this directory to PATH or, if you prefer to suppress this warning, use --no-warn-script-location.\u001b[0m\n",
      "Successfully installed numpy-1.19.5\n"
     ]
    }
   ],
   "source": [
    "!pip install numpy"
   ]
  },
  {
   "cell_type": "markdown",
   "metadata": {
    "id": "lKjFMJwP_4AT"
   },
   "source": [
    "### Import"
   ]
  },
  {
   "cell_type": "markdown",
   "metadata": {
    "id": "73BnScqKzAuz"
   },
   "source": [
    "The alias `np` je konvencija koje većinom upotrebljava"
   ]
  },
  {
   "cell_type": "code",
   "execution_count": 1,
   "metadata": {
    "id": "I_Riakur6LH4"
   },
   "outputs": [],
   "source": [
    "import numpy as np"
   ]
  },
  {
   "cell_type": "markdown",
   "metadata": {
    "id": "S5uSdKsMMyE0"
   },
   "source": [
    "### [1] Kreiranje array-a "
   ]
  },
  {
   "cell_type": "markdown",
   "metadata": {
    "id": "Ox3NLEvFozwd"
   },
   "source": [
    "Niz iz liste"
   ]
  },
  {
   "cell_type": "code",
   "execution_count": 2,
   "metadata": {
    "id": "V1o8Cf3B6LSI"
   },
   "outputs": [],
   "source": [
    "my_list = [i for i in range(36)]\n",
    "np_array = np.array(my_list)"
   ]
  },
  {
   "cell_type": "code",
   "execution_count": 3,
   "metadata": {
    "id": "Z2E7LVfW5mHr"
   },
   "outputs": [
    {
     "data": {
      "text/plain": [
       "numpy.ndarray"
      ]
     },
     "execution_count": 3,
     "metadata": {},
     "output_type": "execute_result"
    }
   ],
   "source": [
    "np_array.__class__"
   ]
  },
  {
   "cell_type": "code",
   "execution_count": 4,
   "metadata": {
    "id": "xNIHrKpb6Lbz"
   },
   "outputs": [
    {
     "data": {
      "text/plain": [
       "(36,)"
      ]
     },
     "execution_count": 4,
     "metadata": {},
     "output_type": "execute_result"
    }
   ],
   "source": [
    "np_array.shape"
   ]
  },
  {
   "cell_type": "code",
   "execution_count": 5,
   "metadata": {
    "id": "jpdq2jfL33er"
   },
   "outputs": [
    {
     "data": {
      "text/plain": [
       "dtype('int64')"
      ]
     },
     "execution_count": 5,
     "metadata": {},
     "output_type": "execute_result"
    }
   ],
   "source": [
    "np_array.dtype"
   ]
  },
  {
   "cell_type": "code",
   "execution_count": 6,
   "metadata": {
    "id": "OrejeCXHq88t"
   },
   "outputs": [
    {
     "data": {
      "text/plain": [
       "8"
      ]
     },
     "execution_count": 6,
     "metadata": {},
     "output_type": "execute_result"
    }
   ],
   "source": [
    "np_array.itemsize"
   ]
  },
  {
   "cell_type": "code",
   "execution_count": 7,
   "metadata": {
    "id": "SHylOjlc4CFy"
   },
   "outputs": [
    {
     "data": {
      "text/plain": [
       "array([ 0,  1,  2,  3,  4,  5,  6,  7,  8,  9, 10, 11, 12, 13, 14, 15, 16,\n",
       "       17, 18, 19, 20, 21, 22, 23, 24, 25, 26, 27, 28, 29, 30, 31, 32, 33,\n",
       "       34, 35])"
      ]
     },
     "execution_count": 7,
     "metadata": {},
     "output_type": "execute_result"
    }
   ],
   "source": [
    "np_array"
   ]
  },
  {
   "cell_type": "code",
   "execution_count": null,
   "metadata": {
    "id": "BPMwdTyPrbGp"
   },
   "outputs": [],
   "source": [
    "np_array.astype(np.float64)"
   ]
  },
  {
   "cell_type": "code",
   "execution_count": null,
   "metadata": {
    "id": "9z8QQJTgrKpe"
   },
   "outputs": [],
   "source": [
    "np.array([12,0,3,4,5,0,6,7,0],dtype=np.bool_)"
   ]
  },
  {
   "cell_type": "markdown",
   "metadata": {
    "id": "U0LLY4XfM9EZ"
   },
   "source": [
    "Niz iz liste"
   ]
  },
  {
   "cell_type": "code",
   "execution_count": 8,
   "metadata": {
    "id": "pp1pMsTk30AT"
   },
   "outputs": [
    {
     "data": {
      "text/plain": [
       "array([1, 2, 3])"
      ]
     },
     "execution_count": 8,
     "metadata": {},
     "output_type": "execute_result"
    }
   ],
   "source": [
    "np.array([1, 2, 3])"
   ]
  },
  {
   "cell_type": "markdown",
   "metadata": {
    "id": "3Oq4-s_QNJxO"
   },
   "source": [
    "Niz nula"
   ]
  },
  {
   "cell_type": "code",
   "execution_count": 9,
   "metadata": {
    "id": "WP_vRs3W30AW"
   },
   "outputs": [
    {
     "data": {
      "text/plain": [
       "array([0., 0., 0.])"
      ]
     },
     "execution_count": 9,
     "metadata": {},
     "output_type": "execute_result"
    }
   ],
   "source": [
    "np.zeros(3)"
   ]
  },
  {
   "cell_type": "markdown",
   "metadata": {
    "id": "P2xs2zAXNQjv"
   },
   "source": [
    "Niz jedinica"
   ]
  },
  {
   "cell_type": "code",
   "execution_count": null,
   "metadata": {
    "id": "EbbQvejn30AZ"
   },
   "outputs": [],
   "source": [
    "np.ones(3)"
   ]
  },
  {
   "cell_type": "markdown",
   "metadata": {
    "id": "s19MZEp-NWPn"
   },
   "source": [
    "Niz od 3 nasumična int broja između 1 i 10\n",
    "\n",
    "\n",
    "```\n",
    "randint(start,end,number_of_values) - number_of_values u interavlu [start,end)\n",
    "```\n",
    "\n"
   ]
  },
  {
   "cell_type": "code",
   "execution_count": null,
   "metadata": {
    "id": "Eu6mv39-30Ab"
   },
   "outputs": [],
   "source": [
    "np.random.randint(1,10, 3)"
   ]
  },
  {
   "cell_type": "markdown",
   "metadata": {
    "id": "MQKkksrLrspz"
   },
   "source": [
    "Niz iz 'range-a' integera"
   ]
  },
  {
   "cell_type": "code",
   "execution_count": null,
   "metadata": {
    "id": "iLaXy-9SrH1m"
   },
   "outputs": [],
   "source": [
    "np.arange(1, 100, 5)"
   ]
  },
  {
   "cell_type": "markdown",
   "metadata": {
    "id": "EEP0cFOcNrP2"
   },
   "source": [
    "Niz linearno udaljenih brojeva"
   ]
  },
  {
   "cell_type": "code",
   "execution_count": null,
   "metadata": {
    "id": "ulOnYoU230Ad"
   },
   "outputs": [],
   "source": [
    "np.linspace(0, 10, 5 )"
   ]
  },
  {
   "cell_type": "markdown",
   "metadata": {
    "id": "ltpGqa5JYIw3"
   },
   "source": [
    "Jednostavan 2D niz"
   ]
  },
  {
   "cell_type": "code",
   "execution_count": null,
   "metadata": {
    "id": "uvtGjFTR30Af"
   },
   "outputs": [],
   "source": [
    "np.array([[1,2,3],\n",
    "         [4,5,6],\n",
    "         [7,8,9]])"
   ]
  },
  {
   "cell_type": "markdown",
   "metadata": {
    "id": "qihCXFxcqw6C"
   },
   "source": [
    "Alternativni način za specificiranje višedimenzionalnih nizova"
   ]
  },
  {
   "cell_type": "code",
   "execution_count": null,
   "metadata": {
    "id": "pOBdF_tTqviJ"
   },
   "outputs": [],
   "source": [
    "np.matrix('1 2; 3 4')"
   ]
  },
  {
   "cell_type": "markdown",
   "metadata": {
    "id": "LB3RLmFdX7vD"
   },
   "source": [
    "Niz sa vrijednostima između 0 i 1"
   ]
  },
  {
   "cell_type": "code",
   "execution_count": null,
   "metadata": {
    "id": "HaTPFxfY30Ah"
   },
   "outputs": [],
   "source": [
    "np.random.random((3,4))"
   ]
  },
  {
   "cell_type": "markdown",
   "metadata": {
    "id": "bQ80v76SYCou"
   },
   "source": [
    "Niz sa normalno distribuiranim elementima"
   ]
  },
  {
   "cell_type": "code",
   "execution_count": null,
   "metadata": {
    "id": "dKo8YPQhF3GO"
   },
   "outputs": [],
   "source": [
    "np.random.randn(3,4)"
   ]
  },
  {
   "cell_type": "markdown",
   "metadata": {
    "id": "0Vdrl2yksN_x"
   },
   "source": [
    "Primjer nizova: 1D niz a te 2D niz b\n"
   ]
  },
  {
   "cell_type": "code",
   "execution_count": 58,
   "metadata": {
    "id": "92oz7rFe30Ak",
    "scrolled": true
   },
   "outputs": [
    {
     "name": "stdout",
     "output_type": "stream",
     "text": [
      "[[[8 4 8]\n",
      "  [4 4 9]\n",
      "  [4 6 6]]\n",
      "\n",
      " [[3 7 7]\n",
      "  [8 1 2]\n",
      "  [8 0 1]]\n",
      "\n",
      " [[5 8 2]\n",
      "  [4 8 3]\n",
      "  [4 1 5]]]\n"
     ]
    }
   ],
   "source": [
    "b = np.random.randint(0,10, (3,3,3))\n",
    "\n",
    "print(b)"
   ]
  },
  {
   "cell_type": "markdown",
   "metadata": {
    "id": "JklrMYYcsfBB"
   },
   "source": [
    "Oblik i dimenzija nizova"
   ]
  },
  {
   "cell_type": "code",
   "execution_count": null,
   "metadata": {
    "id": "obBJnmLl30Ao"
   },
   "outputs": [],
   "source": [
    "print(\"Shape of a:\", np.shape(a))\n",
    "print(\"Shape of b:\", np.shape(b))\n",
    "\n",
    "print('Dimension of a:', np.ndim(a))\n",
    "print('Dimension of b:', np.ndim(b))"
   ]
  },
  {
   "cell_type": "markdown",
   "metadata": {
    "id": "k9dE7QVQsjQ3"
   },
   "source": [
    "Broj elemenata"
   ]
  },
  {
   "cell_type": "code",
   "execution_count": null,
   "metadata": {
    "id": "M5a5sEo530Ap"
   },
   "outputs": [],
   "source": [
    "print('Number of elements in a:', np.size(a))\n",
    "print('Number of elements in b:', np.size(b))"
   ]
  },
  {
   "cell_type": "markdown",
   "metadata": {
    "id": "P9ktlJpS30As"
   },
   "source": [
    "### [2] Indeksiranje"
   ]
  },
  {
   "cell_type": "markdown",
   "metadata": {
    "id": "_tX1uDqgs7Yg"
   },
   "source": [
    "Prvi element od a"
   ]
  },
  {
   "cell_type": "code",
   "execution_count": null,
   "metadata": {
    "id": "0KiQc0GL30A0"
   },
   "outputs": [],
   "source": [
    "print(a[0])\n",
    "print(a[-4])"
   ]
  },
  {
   "cell_type": "markdown",
   "metadata": {
    "id": "aArcxZxus8_W"
   },
   "source": [
    "Zadnji element od a"
   ]
  },
  {
   "cell_type": "code",
   "execution_count": null,
   "metadata": {
    "id": "d-2JMaSG30A4"
   },
   "outputs": [],
   "source": [
    "print(a[-1])\n",
    "print(a[3])"
   ]
  },
  {
   "cell_type": "markdown",
   "metadata": {
    "id": "yqId4f3stAO8"
   },
   "source": [
    "Prvi redak od b"
   ]
  },
  {
   "cell_type": "code",
   "execution_count": null,
   "metadata": {
    "id": "5yLi8hNw30A6"
   },
   "outputs": [],
   "source": [
    "print(b[0]) \n",
    "print(b[0,:])"
   ]
  },
  {
   "cell_type": "markdown",
   "metadata": {
    "id": "D47ZEqpGtET2"
   },
   "source": [
    "Drugi stupac od b"
   ]
  },
  {
   "cell_type": "code",
   "execution_count": null,
   "metadata": {
    "id": "gJcTX8pC30A8"
   },
   "outputs": [],
   "source": [
    "b[:,1]"
   ]
  },
  {
   "cell_type": "markdown",
   "metadata": {
    "id": "qR-6Vo8ktI-Q"
   },
   "source": [
    "Dva nova niza"
   ]
  },
  {
   "cell_type": "code",
   "execution_count": null,
   "metadata": {
    "id": "XtMiu1wj30A-"
   },
   "outputs": [],
   "source": [
    "x = np.array(['a', 'b', 'c'])\n",
    "y = np.array([['d','e','f'], \n",
    "              ['g', 'h', 'k']])\n",
    "\n",
    "print(x)\n",
    "print(y)"
   ]
  },
  {
   "cell_type": "markdown",
   "metadata": {
    "id": "gBCL_UPytRmp"
   },
   "source": [
    "Indeksiranje 'c' iz x"
   ]
  },
  {
   "cell_type": "code",
   "execution_count": null,
   "metadata": {
    "id": "9yRkolt330BI"
   },
   "outputs": [],
   "source": [
    "ind = [2]\n",
    "x[ind]"
   ]
  },
  {
   "cell_type": "markdown",
   "metadata": {
    "id": "texW-VHk30BN"
   },
   "source": [
    "### [3] Slicing\n"
   ]
  },
  {
   "cell_type": "markdown",
   "metadata": {
    "id": "-3UY_gVVtmNU"
   },
   "source": [
    "Primjer integera između 1 i 10"
   ]
  },
  {
   "cell_type": "code",
   "execution_count": null,
   "metadata": {
    "id": "YohttjXd30BO"
   },
   "outputs": [],
   "source": [
    "X = np.arange(1, 11, dtype=int)\n",
    "X"
   ]
  },
  {
   "cell_type": "markdown",
   "metadata": {
    "id": "MxGdY-zFto5A"
   },
   "source": [
    "Prva dva elementa od X"
   ]
  },
  {
   "cell_type": "code",
   "execution_count": null,
   "metadata": {
    "id": "AVU-sx-w30BP"
   },
   "outputs": [],
   "source": [
    "X[:2]"
   ]
  },
  {
   "cell_type": "markdown",
   "metadata": {
    "id": "mow-9Ee3tsge"
   },
   "source": [
    "Elementi iz sredine = 3, 4, 5"
   ]
  },
  {
   "cell_type": "code",
   "execution_count": null,
   "metadata": {
    "id": "XidRDF0E30BS"
   },
   "outputs": [],
   "source": [
    "X[2:5]"
   ]
  },
  {
   "cell_type": "markdown",
   "metadata": {
    "id": "xDzI4-yHtztv"
   },
   "source": [
    "Samo neparni redni brojevi"
   ]
  },
  {
   "cell_type": "code",
   "execution_count": null,
   "metadata": {
    "id": "MQOMFZ-E30BU"
   },
   "outputs": [],
   "source": [
    "X[::2]"
   ]
  },
  {
   "cell_type": "markdown",
   "metadata": {
    "id": "HAOvTXDmt9Zi"
   },
   "source": [
    "Parni redni brojevi"
   ]
  },
  {
   "cell_type": "code",
   "execution_count": null,
   "metadata": {
    "id": "BClbH8_N30BV"
   },
   "outputs": [],
   "source": [
    "X[1::2]"
   ]
  },
  {
   "cell_type": "markdown",
   "metadata": {
    "id": "dzaD9fQzuBNK"
   },
   "source": [
    "Primjer 2D niza"
   ]
  },
  {
   "cell_type": "code",
   "execution_count": null,
   "metadata": {
    "id": "mbHDuPI030BX"
   },
   "outputs": [],
   "source": [
    "Y= np.arange(1,10).reshape(3,3)\n",
    "Y"
   ]
  },
  {
   "cell_type": "markdown",
   "metadata": {
    "id": "CcbH979wuEVF"
   },
   "source": [
    "Prvi i drugi red\n"
   ]
  },
  {
   "cell_type": "code",
   "execution_count": null,
   "metadata": {
    "id": "30LG8L4530BY"
   },
   "outputs": [],
   "source": [
    "Y[:2,:]"
   ]
  },
  {
   "cell_type": "markdown",
   "metadata": {
    "id": "dvzDXeptuI0b"
   },
   "source": [
    "Drugi i treći stupac"
   ]
  },
  {
   "cell_type": "code",
   "execution_count": null,
   "metadata": {
    "id": "5-spSpsr30Ba"
   },
   "outputs": [],
   "source": [
    "Y[:, 1:]"
   ]
  },
  {
   "cell_type": "markdown",
   "metadata": {
    "id": "jbg72kXWuWGd"
   },
   "source": [
    "Parcijalni redak : 5, 6\n"
   ]
  },
  {
   "cell_type": "code",
   "execution_count": null,
   "metadata": {
    "id": "A-Bo9Lam30Bb"
   },
   "outputs": [],
   "source": [
    "Y[1,1:]"
   ]
  },
  {
   "cell_type": "markdown",
   "metadata": {
    "id": "i8VuqiFj30Bd"
   },
   "source": [
    "### [4] Univerzalne funkcije (ufuncs)\n",
    "**Brze operacije na nizovima**"
   ]
  },
  {
   "cell_type": "code",
   "execution_count": null,
   "metadata": {
    "id": "n5Zpl20m30Be"
   },
   "outputs": [],
   "source": [
    "X"
   ]
  },
  {
   "cell_type": "markdown",
   "metadata": {
    "id": "YZ_OGaequnk7"
   },
   "source": [
    "Maximum element"
   ]
  },
  {
   "cell_type": "code",
   "execution_count": null,
   "metadata": {
    "id": "c7qvoqAM30Bi"
   },
   "outputs": [],
   "source": [
    "np.max(X)"
   ]
  },
  {
   "cell_type": "markdown",
   "metadata": {
    "id": "Esmm1tAwupnG"
   },
   "source": [
    "Mean svih elemenata"
   ]
  },
  {
   "cell_type": "code",
   "execution_count": null,
   "metadata": {
    "id": "GxkPQwBh30Bk"
   },
   "outputs": [],
   "source": [
    "np.mean(X)"
   ]
  },
  {
   "cell_type": "markdown",
   "metadata": {
    "id": "EFDNjCdUuuEd"
   },
   "source": [
    "Svi elementi na potenciju broja 4\n"
   ]
  },
  {
   "cell_type": "code",
   "execution_count": null,
   "metadata": {
    "id": "1_vAnx-t30Bl"
   },
   "outputs": [],
   "source": [
    "np.power(X, 4)"
   ]
  },
  {
   "cell_type": "markdown",
   "metadata": {
    "id": "78xX7sYwuyQA"
   },
   "source": [
    "Trigonometrijske funkcije"
   ]
  },
  {
   "cell_type": "code",
   "execution_count": null,
   "metadata": {
    "id": "3hI7QfFi30Bn"
   },
   "outputs": [],
   "source": [
    "print(np.sin(X))\n",
    "print(np.tan(X))"
   ]
  },
  {
   "cell_type": "markdown",
   "metadata": {
    "id": "nUD0Qrr9u16C"
   },
   "source": [
    "Računanje $(sin \\; x_{ij})^2 + (cos \\; x_{ij})^2$ za svaki element"
   ]
  },
  {
   "cell_type": "code",
   "execution_count": null,
   "metadata": {
    "id": "xax0W2nm30Bq"
   },
   "outputs": [],
   "source": [
    "# x2 + y2 = 1\n",
    "np.square(np.sin(X)) + np.square(np.cos(X))"
   ]
  },
  {
   "cell_type": "markdown",
   "metadata": {
    "id": "g-HHXNfHvG2U"
   },
   "source": [
    "2D niz"
   ]
  },
  {
   "cell_type": "code",
   "execution_count": null,
   "metadata": {
    "id": "vXPH4FQm30Bs"
   },
   "outputs": [],
   "source": [
    "Y"
   ]
  },
  {
   "cell_type": "markdown",
   "metadata": {
    "id": "NMJAcurrvJjw"
   },
   "source": [
    "Množenje svakog elementa"
   ]
  },
  {
   "cell_type": "code",
   "execution_count": null,
   "metadata": {
    "id": "MHn_A5aA30Bv"
   },
   "outputs": [],
   "source": [
    "np.multiply(Y, 2)"
   ]
  },
  {
   "cell_type": "markdown",
   "metadata": {
    "id": "5tiEaGDzvOFX"
   },
   "source": [
    "Split Y u 3 podniza"
   ]
  },
  {
   "cell_type": "code",
   "execution_count": null,
   "metadata": {
    "id": "dvlh8zz530Bx"
   },
   "outputs": [],
   "source": [
    "np.split(Y, 3)"
   ]
  },
  {
   "cell_type": "markdown",
   "metadata": {
    "id": "h8NcgJ8v30Bz"
   },
   "source": [
    "### [5] Broadcasting"
   ]
  },
  {
   "cell_type": "markdown",
   "metadata": {
    "id": "e9K7DgOP30Bz"
   },
   "source": [
    " Broadcasting oredstavlja mogućnost korištenja ufuncs i mnogih drugih operacija na nizove različitih nizova"
   ]
  },
  {
   "cell_type": "code",
   "execution_count": null,
   "metadata": {
    "id": "F1TvYZLT30Bz"
   },
   "outputs": [],
   "source": [
    "X"
   ]
  },
  {
   "cell_type": "markdown",
   "metadata": {
    "id": "CBmSFhEMvYBM"
   },
   "source": [
    "Dodavanje 5 na svaki element"
   ]
  },
  {
   "cell_type": "code",
   "execution_count": null,
   "metadata": {
    "id": "OybWQPju30B1"
   },
   "outputs": [],
   "source": [
    "X + 5"
   ]
  },
  {
   "cell_type": "code",
   "execution_count": null,
   "metadata": {
    "id": "lCqg_Wm330B3"
   },
   "outputs": [],
   "source": [
    "np.add(X, 5)"
   ]
  },
  {
   "cell_type": "markdown",
   "metadata": {
    "id": "GKeed4JKvc1y"
   },
   "source": [
    "Niz Z sa newaxis"
   ]
  },
  {
   "cell_type": "code",
   "execution_count": null,
   "metadata": {
    "id": "pHCIA7ye30B6"
   },
   "outputs": [],
   "source": [
    "Z = np.arange(3)[:, np.newaxis]\n",
    "Z"
   ]
  },
  {
   "cell_type": "code",
   "execution_count": null,
   "metadata": {
    "id": "-AbjREHUvkLD"
   },
   "outputs": [],
   "source": [
    "Z.shape"
   ]
  },
  {
   "cell_type": "code",
   "execution_count": null,
   "metadata": {
    "id": "MSaoZMjIvug7"
   },
   "outputs": [],
   "source": [
    "Y.shape"
   ]
  },
  {
   "cell_type": "code",
   "execution_count": null,
   "metadata": {
    "id": "lHRMcBgc30B8"
   },
   "outputs": [],
   "source": [
    "np.multiply(Y, Z)"
   ]
  },
  {
   "cell_type": "code",
   "execution_count": null,
   "metadata": {
    "id": "FxuA0fenF3Rc"
   },
   "outputs": [],
   "source": [
    "np.matmul(Y, Z)"
   ]
  },
  {
   "cell_type": "markdown",
   "metadata": {
    "id": "cdp7oTYT30B-"
   },
   "source": [
    "### [6] Druge operacije"
   ]
  },
  {
   "cell_type": "code",
   "execution_count": null,
   "metadata": {
    "id": "n6__1gGJ30B_"
   },
   "outputs": [],
   "source": [
    "x = np.random.randint(1,5, 10)\n",
    "x"
   ]
  },
  {
   "cell_type": "code",
   "execution_count": null,
   "metadata": {
    "id": "2AhVk4Ru30CB"
   },
   "outputs": [],
   "source": [
    "y = np.random.randint(1,5, (3,3))\n",
    "y"
   ]
  },
  {
   "cell_type": "markdown",
   "metadata": {
    "id": "VvtDh1yLwKzg"
   },
   "source": [
    "Sortiranje"
   ]
  },
  {
   "cell_type": "code",
   "execution_count": null,
   "metadata": {
    "id": "mom7_ymM30CD"
   },
   "outputs": [],
   "source": [
    "np.sort(x)"
   ]
  },
  {
   "cell_type": "markdown",
   "metadata": {
    "id": "eGrKxoUFwMnP"
   },
   "source": [
    "Sortiranje po redcima"
   ]
  },
  {
   "cell_type": "code",
   "execution_count": null,
   "metadata": {
    "id": "PTtb3TYN30CF"
   },
   "outputs": [],
   "source": [
    "np.sort(y, axis=0)"
   ]
  },
  {
   "cell_type": "markdown",
   "metadata": {
    "id": "PvNTU6tOwVNR"
   },
   "source": [
    "Sortiranje po stupcima"
   ]
  },
  {
   "cell_type": "code",
   "execution_count": null,
   "metadata": {
    "id": "c0xS9Sge30CH"
   },
   "outputs": [],
   "source": [
    "np.sort(y, axis=1)"
   ]
  },
  {
   "cell_type": "markdown",
   "metadata": {
    "id": "tLjHjmxIwYsD"
   },
   "source": [
    "Conditions primijenjen na nizove"
   ]
  },
  {
   "cell_type": "code",
   "execution_count": null,
   "metadata": {
    "id": "NCi1o1ey30CJ"
   },
   "outputs": [],
   "source": [
    "# == , !=, < , >, >=, <= operations on arrays\n",
    "x > 3"
   ]
  },
  {
   "cell_type": "markdown",
   "metadata": {
    "id": "WyvfBEFHwe_b"
   },
   "source": [
    "Maskiranje niza"
   ]
  },
  {
   "cell_type": "code",
   "execution_count": null,
   "metadata": {
    "id": "hEiZgr5-30CK"
   },
   "outputs": [],
   "source": [
    "x[x>3]"
   ]
  },
  {
   "cell_type": "code",
   "execution_count": null,
   "metadata": {
    "id": "Rw-zn_Z230CM"
   },
   "outputs": [],
   "source": [
    "x[(x <= 3) & (x>1)]"
   ]
  },
  {
   "cell_type": "markdown",
   "metadata": {
    "id": "E9LHp9UECBLD"
   },
   "source": [
    "## MATPLOTLIB"
   ]
  },
  {
   "cell_type": "markdown",
   "metadata": {
    "id": "rkaj4RksCIT8"
   },
   "source": [
    "### Instalacija"
   ]
  },
  {
   "cell_type": "code",
   "execution_count": null,
   "metadata": {
    "id": "qAuH1YS3CB1v"
   },
   "outputs": [
    {
     "name": "stdout",
     "output_type": "stream",
     "text": [
      "Defaulting to user installation because normal site-packages is not writeable\n",
      "Collecting matplotlib\n",
      "  Downloading matplotlib-3.3.4-cp36-cp36m-manylinux1_x86_64.whl (11.5 MB)\n",
      "     |████████████████�███            | 7.2 MB 2.5 MB/s eta 0:00:02�███▉                        | 2.8 MB 2.5 MB/s eta 0:00:04"
     ]
    }
   ],
   "source": [
    "!pip install matplotlib"
   ]
  },
  {
   "cell_type": "markdown",
   "metadata": {
    "id": "edMrTIiNCdOx"
   },
   "source": [
    "### Import"
   ]
  },
  {
   "cell_type": "code",
   "execution_count": 2,
   "metadata": {
    "id": "xbx2UfKYCdcP"
   },
   "outputs": [],
   "source": [
    "import matplotlib.pyplot as plt"
   ]
  },
  {
   "cell_type": "markdown",
   "metadata": {
    "id": "WALI8x49GUpe"
   },
   "source": [
    "### [1] Line Plots"
   ]
  },
  {
   "cell_type": "code",
   "execution_count": null,
   "metadata": {
    "id": "k6dVf2brBHdX"
   },
   "outputs": [],
   "source": [
    "x = np.linspace(0,10)\n",
    "plt.plot(x)\n",
    "plt.show()"
   ]
  },
  {
   "cell_type": "code",
   "execution_count": null,
   "metadata": {
    "id": "YPqysZYJAs2C"
   },
   "outputs": [],
   "source": [
    "x = np.linspace(0,10)\n",
    "y = np.exp(x)\n",
    "plt.plot(x,y)\n",
    "plt.show()"
   ]
  },
  {
   "cell_type": "code",
   "execution_count": null,
   "metadata": {
    "id": "08RTGn_xE3MP"
   },
   "outputs": [],
   "source": [
    "x  = [1, 2, 3, 4, 5, 6, 7, 8, 9]\n",
    "y1 = [1, 3, 5, 3, 1, 3, 5, 3, 1]\n",
    "y2 = [2, 4, 6, 4, 2, 4, 6, 4, 2]\n",
    "plt.plot(x, y1, label=\"line L\")\n",
    "plt.plot(x, y2, label=\"line H\")\n",
    "plt.plot()\n",
    "\n",
    "plt.xlabel(\"x axis\")\n",
    "plt.ylabel(\"y axis\")\n",
    "plt.title(\"Line Graph Example\")\n",
    "plt.legend()\n",
    "plt.show()"
   ]
  },
  {
   "cell_type": "markdown",
   "metadata": {
    "id": "sIZLTZ0pdo0Z"
   },
   "source": [
    "### [2] Bar Plots"
   ]
  },
  {
   "cell_type": "code",
   "execution_count": null,
   "metadata": {
    "id": "bZv4MenQpYOF"
   },
   "outputs": [],
   "source": [
    "# Look at index 4 and 6, which demonstrate overlapping cases.\n",
    "x1 = [1, 3, 4, 5, 6, 7, 9]\n",
    "y1 = [4, 7, 2, 4, 7, 8, 3]\n",
    "\n",
    "x2 = [2, 4, 6, 8, 10]\n",
    "y2 = [5, 6, 2, 6, 2]\n",
    "\n",
    "# Colors: https://matplotlib.org/api/colors_api.html\n",
    "\n",
    "plt.bar(x1, y1, label=\"Blue Bar\", color='b')\n",
    "plt.bar(x2, y2, label=\"Green Bar\", color='g')\n",
    "plt.plot()\n",
    "\n",
    "plt.xlabel(\"bar number\")\n",
    "plt.ylabel(\"bar height\")\n",
    "plt.title(\"Bar Chart Example\")\n",
    "plt.legend()\n",
    "plt.show()"
   ]
  },
  {
   "cell_type": "markdown",
   "metadata": {
    "id": "YQO2Lw8Xdu7x"
   },
   "source": [
    "### [3] Histograms"
   ]
  },
  {
   "cell_type": "code",
   "execution_count": null,
   "metadata": {
    "cellView": "both",
    "id": "SZ-DMbnPMbMY"
   },
   "outputs": [],
   "source": [
    "# Use numpy to generate a bunch of random data in a bell curve around 5.\n",
    "n = 5 + np.random.randn(1000)\n",
    "\n",
    "m = [m for m in range(len(n))]\n",
    "plt.bar(m, n)\n",
    "plt.title(\"Raw Data\")\n",
    "plt.show()\n",
    "\n",
    "plt.hist(n, bins=20)\n",
    "plt.title(\"Histogram\")\n",
    "plt.show()\n",
    "\n",
    "plt.hist(n, cumulative=True, bins=20)\n",
    "plt.title(\"Cumulative Histogram\")\n",
    "plt.show()"
   ]
  },
  {
   "cell_type": "markdown",
   "metadata": {
    "id": "9-CelVUmdz8r"
   },
   "source": [
    "### [4] Scatter Plots"
   ]
  },
  {
   "cell_type": "code",
   "execution_count": null,
   "metadata": {
    "id": "79C7jc9mv-Ji"
   },
   "outputs": [],
   "source": [
    "x1 = [2, 3, 4]\n",
    "y1 = [5, 5, 5]\n",
    "\n",
    "x2 = [1, 2, 3, 4, 5]\n",
    "y2 = [2, 3, 2, 3, 4]\n",
    "y3 = [6, 8, 7, 8, 7]\n",
    "\n",
    "# Markers: https://matplotlib.org/api/markers_api.html\n",
    "\n",
    "plt.scatter(x1, y1)\n",
    "plt.scatter(x2, y2, marker='v', color='r')\n",
    "plt.scatter(x2, y3, marker='^', color='m')\n",
    "plt.title('Scatter Plot Example')\n",
    "plt.show()"
   ]
  },
  {
   "cell_type": "markdown",
   "metadata": {
    "id": "nlk-Sk0Nd82p"
   },
   "source": [
    "### [5] Stack Plots"
   ]
  },
  {
   "cell_type": "code",
   "execution_count": null,
   "metadata": {
    "id": "5sxEM0pJzpgr"
   },
   "outputs": [],
   "source": [
    "idxes = [ 1,  2,  3,  4,  5,  6,  7,  8,  9]\n",
    "arr1  = [23, 40, 28, 43,  8, 44, 43, 18, 17]\n",
    "arr2  = [17, 30, 22, 14, 17, 17, 29, 22, 30]\n",
    "arr3  = [15, 31, 18, 22, 18, 19, 13, 32, 39]\n",
    "\n",
    "# Adding legend for stack plots is tricky.\n",
    "plt.plot([], [], color='r', label = 'D 1')\n",
    "plt.plot([], [], color='g', label = 'D 2')\n",
    "plt.plot([], [], color='b', label = 'D 3')\n",
    "\n",
    "plt.stackplot(idxes, arr1, arr2, arr3, colors= ['r', 'g', 'b'])\n",
    "plt.title('Stack Plot Example')\n",
    "plt.legend()\n",
    "plt.show()"
   ]
  },
  {
   "cell_type": "markdown",
   "metadata": {
    "id": "C0LOohpqeCjx"
   },
   "source": [
    "### [6] Pie Chart aka Pita bar"
   ]
  },
  {
   "cell_type": "code",
   "execution_count": null,
   "metadata": {
    "id": "ZdEG-d4g4U6v"
   },
   "outputs": [],
   "source": [
    "import matplotlib.pyplot as plt\n",
    "\n",
    "labels = 'Ne', 'Ne - samo u žutoj boji'\n",
    "sections = [80, 20]\n",
    "colors = ['c', 'y']\n",
    "\n",
    "plt.pie(sections, labels=labels, colors=colors,\n",
    "        startangle=90,\n",
    "        explode = (0, 0.1),\n",
    "        autopct = '%1.2f%%')\n",
    "\n",
    "plt.axis('equal') # Try commenting this out.\n",
    "plt.title('Je li se ovo predavanje zaista dogodilo?')\n",
    "plt.show()"
   ]
  },
  {
   "cell_type": "markdown",
   "metadata": {
    "id": "sX97x87MTyIf"
   },
   "source": [
    "### [7] Fill i alpha"
   ]
  },
  {
   "cell_type": "code",
   "execution_count": null,
   "metadata": {
    "id": "BCUl8mTMT4sN"
   },
   "outputs": [],
   "source": [
    "import matplotlib.pyplot as plt\n",
    "import numpy as np\n",
    "\n",
    "ys = 200 + np.random.randn(100)\n",
    "x = [x for x in range(len(ys))]\n",
    "\n",
    "plt.plot(x, ys, '-')\n",
    "plt.fill_between(x, ys, 195, where=(ys > 195), facecolor='g', alpha=0.6)\n",
    "\n",
    "plt.title(\"Fills and Alpha Example\")\n",
    "plt.show()"
   ]
  },
  {
   "cell_type": "markdown",
   "metadata": {
    "id": "jONspxyzeT4Y"
   },
   "source": [
    "### [8] Subplotting "
   ]
  },
  {
   "cell_type": "markdown",
   "metadata": {
    "id": "ycBkQxArofbA"
   },
   "source": [
    "Using subplots"
   ]
  },
  {
   "cell_type": "code",
   "execution_count": null,
   "metadata": {
    "id": "y30-vx8roAf4"
   },
   "outputs": [],
   "source": [
    "fig, ax = plt.subplots(2, 2)\n",
    "\n",
    "ax[0, 0].plot(np.random.random(10), color = 'r') #row=0, col=0\n",
    "ax[1, 0].plot(np.random.random(10), color = 'b') #row=1, col=0\n",
    "ax[0, 1].plot(np.random.random(10), color = 'g') #row=0, col=1\n",
    "ax[1, 1].plot(np.random.random(10), color = 'k') #row=1, col=1\n",
    "plt.show()"
   ]
  },
  {
   "cell_type": "markdown",
   "metadata": {
    "id": "p1V_slM8ohza"
   },
   "source": [
    "Korištenje figure-a"
   ]
  },
  {
   "cell_type": "code",
   "execution_count": null,
   "metadata": {
    "id": "dDAxtFqlnL2N"
   },
   "outputs": [],
   "source": [
    "fig = plt.figure()\n",
    "ax1 = fig.add_axes([0.1, 0.5, 0.8, 0.4], ylim=(-1.2, 1.2))\n",
    "ax2 = fig.add_axes([0.1, 0.1, 0.8, 0.4], ylim=(-1.2, 1.2))\n",
    "\n",
    "x = np.linspace(0, 10)\n",
    "ax1.plot(np.sin(x))\n",
    "ax2.plot(np.cos(x))\n",
    "\n",
    "plt.show()"
   ]
  },
  {
   "cell_type": "code",
   "execution_count": null,
   "metadata": {
    "id": "rDWEcisFnMlN"
   },
   "outputs": [],
   "source": [
    "fig = plt.figure()\n",
    "#fig.subplots_adjust(hspace=0.4, wspace=0.4)\n",
    "\n",
    "for i in range(1, 7):\n",
    "    plt.subplot(2, 3, i)\n",
    "    plt.text(0.5, 0.5, str((2, 3, i)),fontsize=18, ha='center')"
   ]
  },
  {
   "cell_type": "markdown",
   "metadata": {
    "id": "ejOPyV6pom9s"
   },
   "source": [
    "Korištenje subplot2grid"
   ]
  },
  {
   "cell_type": "code",
   "execution_count": null,
   "metadata": {
    "id": "JF-dVGj3ExQm"
   },
   "outputs": [],
   "source": [
    "import matplotlib.pyplot as plt\n",
    "import numpy as np\n",
    "\n",
    "def random_plots():\n",
    "  xs = []\n",
    "  ys = []\n",
    "  \n",
    "  for i in range(20):\n",
    "    x = i\n",
    "    y = np.random.randint(10)\n",
    "    \n",
    "    xs.append(x)\n",
    "    ys.append(y)\n",
    "  \n",
    "  return xs, ys\n",
    "\n",
    "fig = plt.figure()\n",
    "ax1 = plt.subplot2grid((5, 2), (0, 0), rowspan=1, colspan=2)\n",
    "ax2 = plt.subplot2grid((5, 2), (1, 0), rowspan=3, colspan=2)\n",
    "ax3 = plt.subplot2grid((5, 2), (4, 0), rowspan=1, colspan=1)\n",
    "ax4 = plt.subplot2grid((5, 2), (4, 1), rowspan=1, colspan=1)\n",
    "\n",
    "x, y = random_plots()\n",
    "ax1.plot(x, y)\n",
    "\n",
    "x, y = random_plots()\n",
    "ax2.plot(x, y)\n",
    "\n",
    "x, y = random_plots()\n",
    "ax3.plot(x, y)\n",
    "\n",
    "x, y = random_plots()\n",
    "ax4.plot(x, y)\n",
    "\n",
    "plt.tight_layout()\n",
    "plt.show()"
   ]
  },
  {
   "cell_type": "markdown",
   "metadata": {
    "id": "A_xnqKsS27Kx"
   },
   "source": [
    "## VJEŽBE"
   ]
  },
  {
   "cell_type": "markdown",
   "metadata": {
    "id": "-F1Nna0827rg"
   },
   "source": [
    "#### 1. Generirajte numpy niz koji sadrži 50 prirodnih brojeva. Generirajte drugi niz koji je korijen svakog elementa prvog niza.\n",
    "\n",
    "> #### Ovo bi trebali napraviti na dva načina: <br/>  (i) Korištenjem math.sqrt() funkcije računanjem drugog korijena eksplicitno za svaki element korištenjem for petlje <br/> (ii) Korištenjem numpy ufunc np.sqrt().   \n",
    "\n",
    "#### Koristite python timeit funkciju da biste izračunali i isprintali vrijeme poterbno za izvršavanje (i) i (ii). Primjetite ubrzanje/usporenje u slučaju (ii)."
   ]
  },
  {
   "cell_type": "code",
   "execution_count": 3,
   "metadata": {},
   "outputs": [],
   "source": [
    "import math\n",
    "import timeit"
   ]
  },
  {
   "cell_type": "code",
   "execution_count": 26,
   "metadata": {
    "id": "9pJdHTry28XE"
   },
   "outputs": [],
   "source": [
    "array = np.random.randint(1,1000,50)"
   ]
  },
  {
   "cell_type": "markdown",
   "metadata": {
    "id": "tLjHjmxIwYsD"
   },
   "source": [
    "(1) math"
   ]
  },
  {
   "cell_type": "code",
   "execution_count": 27,
   "metadata": {},
   "outputs": [
    {
     "name": "stdout",
     "output_type": "stream",
     "text": [
      "75.6 µs ± 21.8 µs per loop (mean ± std. dev. of 4 runs, 100 loops each)\n"
     ]
    }
   ],
   "source": [
    "def getSquaredArray():\n",
    "    newArray = []\n",
    "    for item in array:\n",
    "        newArray.append(round(math.sqrt(item), 2))\n",
    "    return newArray\n",
    "%timeit -r 4 -n 100 getSquaredArray()"
   ]
  },
  {
   "cell_type": "code",
   "execution_count": 28,
   "metadata": {},
   "outputs": [
    {
     "name": "stdout",
     "output_type": "stream",
     "text": [
      "[21.95, 31.1, 15.13, 16.79, 9.8, 19.03, 22.36, 30.32, 31.38, 23.9, 21.28, 6.86, 18.38, 15.87, 22.65, 2.0, 30.59, 7.28, 19.52, 18.73, 29.68, 14.04, 28.74, 22.87, 23.28, 30.56, 20.42, 24.08, 30.27, 21.35, 16.19, 21.31, 18.19, 25.02, 15.26, 11.53, 24.23, 30.68, 18.89, 24.62, 26.53, 20.93, 25.38, 24.47, 19.57, 16.34, 22.69, 31.32, 26.15, 27.24]\n"
     ]
    }
   ],
   "source": [
    "print(getSquaredArray())"
   ]
  },
  {
   "cell_type": "markdown",
   "metadata": {
    "id": "tLjHjmxIwYsD"
   },
   "source": [
    "(2) np"
   ]
  },
  {
   "cell_type": "code",
   "execution_count": 29,
   "metadata": {},
   "outputs": [
    {
     "name": "stdout",
     "output_type": "stream",
     "text": [
      "1.3 µs ± 93.5 ns per loop (mean ± std. dev. of 4 runs, 100 loops each)\n"
     ]
    }
   ],
   "source": [
    "def getSquaredArrayNP():\n",
    "    return np.square(array)\n",
    "%timeit -r 4 -n 100 getSquaredArrayNP()"
   ]
  },
  {
   "cell_type": "code",
   "execution_count": 30,
   "metadata": {},
   "outputs": [
    {
     "name": "stdout",
     "output_type": "stream",
     "text": [
      "[232324 935089  52441  79524   9216 131044 250000 844561 970225 326041\n",
      " 205209   2209 114244  63504 263169     16 876096   2809 145161 123201\n",
      " 776161  38809 682276 273529 293764 872356 173889 336400 839056 207936\n",
      "  68644 206116 109561 391876  54289  17689 344569 885481 127449 367236\n",
      " 495616 191844 414736 358801 146689  71289 265225 962361 467856 550564]\n"
     ]
    }
   ],
   "source": [
    "print(getSquaredArrayNP())"
   ]
  },
  {
   "cell_type": "markdown",
   "metadata": {},
   "source": [
    "#### 2. Kreirajte niz veličine 10 x 10 sa svim elementima jednakim 0 kroz liniju koda te zamijenite svaki element na 'granici' niza sa brojem 100"
   ]
  },
  {
   "cell_type": "code",
   "execution_count": 46,
   "metadata": {
    "id": "BseRH1hd28-P"
   },
   "outputs": [],
   "source": [
    "zero2Darray = np.pad(np.full((10, 10), np.zeros(10)), pad_width=1, constant_values=100)"
   ]
  },
  {
   "cell_type": "code",
   "execution_count": 47,
   "metadata": {},
   "outputs": [
    {
     "name": "stdout",
     "output_type": "stream",
     "text": [
      "[[100. 100. 100. 100. 100. 100. 100. 100. 100. 100. 100. 100.]\n",
      " [100.   0.   0.   0.   0.   0.   0.   0.   0.   0.   0. 100.]\n",
      " [100.   0.   0.   0.   0.   0.   0.   0.   0.   0.   0. 100.]\n",
      " [100.   0.   0.   0.   0.   0.   0.   0.   0.   0.   0. 100.]\n",
      " [100.   0.   0.   0.   0.   0.   0.   0.   0.   0.   0. 100.]\n",
      " [100.   0.   0.   0.   0.   0.   0.   0.   0.   0.   0. 100.]\n",
      " [100.   0.   0.   0.   0.   0.   0.   0.   0.   0.   0. 100.]\n",
      " [100.   0.   0.   0.   0.   0.   0.   0.   0.   0.   0. 100.]\n",
      " [100.   0.   0.   0.   0.   0.   0.   0.   0.   0.   0. 100.]\n",
      " [100.   0.   0.   0.   0.   0.   0.   0.   0.   0.   0. 100.]\n",
      " [100.   0.   0.   0.   0.   0.   0.   0.   0.   0.   0. 100.]\n",
      " [100. 100. 100. 100. 100. 100. 100. 100. 100. 100. 100. 100.]]\n"
     ]
    }
   ],
   "source": [
    "print(zero2Darray)"
   ]
  },
  {
   "cell_type": "markdown",
   "metadata": {},
   "source": [
    "####  3. Kreirajte 1D niz nasumičnih brojeva te kreirajte listu indeksa temeljen na sortiranom nizu"
   ]
  },
  {
   "cell_type": "code",
   "execution_count": null,
   "metadata": {
    "id": "FCp5Q96I29Uw"
   },
   "outputs": [
    {
     "name": "stdout",
     "output_type": "stream",
     "text": [
      "[15 11 17  4 35 21  2 34 13 30 45  3 32 12 19 38  5 18 44 26 41 10 31 29\n",
      "  0  6 14 46 23 24  9 27 36 43 39 33 42 48 40 49 22 20 28  7 25 16 37  1\n",
      " 47  8]\n"
     ]
    }
   ],
   "source": [
    "print(np.argsort(array))"
   ]
  },
  {
   "cell_type": "markdown",
   "metadata": {},
   "source": [
    "#### 4. Kreirajte numpy niz veličine 5 X 10 X 20 koji se sastoji od random int brojeva. Izračunajte srednju vrijednost niza preko različith osi. Nakon toga napravite sumu izračunatih srednjih vrijednosti. Kreirajte plot za svaki od tri rezultata te ih iscrtajte u obliku sublotova koji se nalaze u horizontalnom nizu. \n"
   ]
  },
  {
   "cell_type": "code",
   "execution_count": 106,
   "metadata": {
    "id": "lgRf4sIj2_Ze"
   },
   "outputs": [
    {
     "ename": "TypeError",
     "evalue": "subplot() takes 1 or 3 positional arguments but 2 were given",
     "output_type": "error",
     "traceback": [
      "\u001b[0;31m---------------------------------------------------------------------------\u001b[0m",
      "\u001b[0;31mTypeError\u001b[0m                                 Traceback (most recent call last)",
      "\u001b[0;32m<ipython-input-106-d189ddc4baf5>\u001b[0m in \u001b[0;36m<module>\u001b[0;34m\u001b[0m\n\u001b[1;32m      3\u001b[0m \u001b[0msumX\u001b[0m \u001b[0;34m=\u001b[0m \u001b[0mnp\u001b[0m\u001b[0;34m.\u001b[0m\u001b[0msum\u001b[0m\u001b[0;34m(\u001b[0m\u001b[0marray\u001b[0m\u001b[0;34m,\u001b[0m\u001b[0;36m0\u001b[0m\u001b[0;34m)\u001b[0m\u001b[0;34m\u001b[0m\u001b[0;34m\u001b[0m\u001b[0m\n\u001b[1;32m      4\u001b[0m \u001b[0;34m\u001b[0m\u001b[0m\n\u001b[0;32m----> 5\u001b[0;31m \u001b[0mfig\u001b[0m\u001b[0;34m,\u001b[0m \u001b[0max\u001b[0m \u001b[0;34m=\u001b[0m \u001b[0mplt\u001b[0m\u001b[0;34m.\u001b[0m\u001b[0msubplot\u001b[0m\u001b[0;34m(\u001b[0m\u001b[0;36m3\u001b[0m\u001b[0;34m,\u001b[0m \u001b[0;36m1\u001b[0m\u001b[0;34m)\u001b[0m\u001b[0;34m\u001b[0m\u001b[0;34m\u001b[0m\u001b[0m\n\u001b[0m\u001b[1;32m      6\u001b[0m \u001b[0max\u001b[0m\u001b[0;34m[\u001b[0m\u001b[0;36m1\u001b[0m\u001b[0;34m]\u001b[0m \u001b[0;34m=\u001b[0m \u001b[0mplt\u001b[0m\u001b[0;34m.\u001b[0m\u001b[0mplot\u001b[0m\u001b[0;34m(\u001b[0m\u001b[0msumX\u001b[0m\u001b[0;34m)\u001b[0m\u001b[0;34m\u001b[0m\u001b[0;34m\u001b[0m\u001b[0m\n",
      "\u001b[0;32m~/.local/lib/python3.6/site-packages/matplotlib/pyplot.py\u001b[0m in \u001b[0;36msubplot\u001b[0;34m(*args, **kwargs)\u001b[0m\n\u001b[1;32m   1140\u001b[0m \u001b[0;34m\u001b[0m\u001b[0m\n\u001b[1;32m   1141\u001b[0m     \u001b[0mfig\u001b[0m \u001b[0;34m=\u001b[0m \u001b[0mgcf\u001b[0m\u001b[0;34m(\u001b[0m\u001b[0;34m)\u001b[0m\u001b[0;34m\u001b[0m\u001b[0;34m\u001b[0m\u001b[0m\n\u001b[0;32m-> 1142\u001b[0;31m     \u001b[0max\u001b[0m \u001b[0;34m=\u001b[0m \u001b[0mfig\u001b[0m\u001b[0;34m.\u001b[0m\u001b[0madd_subplot\u001b[0m\u001b[0;34m(\u001b[0m\u001b[0;34m*\u001b[0m\u001b[0margs\u001b[0m\u001b[0;34m,\u001b[0m \u001b[0;34m**\u001b[0m\u001b[0mkwargs\u001b[0m\u001b[0;34m)\u001b[0m\u001b[0;34m\u001b[0m\u001b[0;34m\u001b[0m\u001b[0m\n\u001b[0m\u001b[1;32m   1143\u001b[0m     \u001b[0mbbox\u001b[0m \u001b[0;34m=\u001b[0m \u001b[0max\u001b[0m\u001b[0;34m.\u001b[0m\u001b[0mbbox\u001b[0m\u001b[0;34m\u001b[0m\u001b[0;34m\u001b[0m\u001b[0m\n\u001b[1;32m   1144\u001b[0m     \u001b[0maxes_to_delete\u001b[0m \u001b[0;34m=\u001b[0m \u001b[0;34m[\u001b[0m\u001b[0;34m]\u001b[0m\u001b[0;34m\u001b[0m\u001b[0;34m\u001b[0m\u001b[0m\n",
      "\u001b[0;32m~/.local/lib/python3.6/site-packages/matplotlib/figure.py\u001b[0m in \u001b[0;36madd_subplot\u001b[0;34m(self, *args, **kwargs)\u001b[0m\n\u001b[1;32m   1400\u001b[0m                     \u001b[0;31m# more similar to add_axes.\u001b[0m\u001b[0;34m\u001b[0m\u001b[0;34m\u001b[0m\u001b[0;34m\u001b[0m\u001b[0m\n\u001b[1;32m   1401\u001b[0m                     \u001b[0mself\u001b[0m\u001b[0;34m.\u001b[0m\u001b[0m_axstack\u001b[0m\u001b[0;34m.\u001b[0m\u001b[0mremove\u001b[0m\u001b[0;34m(\u001b[0m\u001b[0max\u001b[0m\u001b[0;34m)\u001b[0m\u001b[0;34m\u001b[0m\u001b[0;34m\u001b[0m\u001b[0m\n\u001b[0;32m-> 1402\u001b[0;31m             \u001b[0max\u001b[0m \u001b[0;34m=\u001b[0m \u001b[0msubplot_class_factory\u001b[0m\u001b[0;34m(\u001b[0m\u001b[0mprojection_class\u001b[0m\u001b[0;34m)\u001b[0m\u001b[0;34m(\u001b[0m\u001b[0mself\u001b[0m\u001b[0;34m,\u001b[0m \u001b[0;34m*\u001b[0m\u001b[0margs\u001b[0m\u001b[0;34m,\u001b[0m \u001b[0;34m**\u001b[0m\u001b[0mkwargs\u001b[0m\u001b[0;34m)\u001b[0m\u001b[0;34m\u001b[0m\u001b[0;34m\u001b[0m\u001b[0m\n\u001b[0m\u001b[1;32m   1403\u001b[0m \u001b[0;34m\u001b[0m\u001b[0m\n\u001b[1;32m   1404\u001b[0m         \u001b[0;32mreturn\u001b[0m \u001b[0mself\u001b[0m\u001b[0;34m.\u001b[0m\u001b[0m_add_axes_internal\u001b[0m\u001b[0;34m(\u001b[0m\u001b[0mkey\u001b[0m\u001b[0;34m,\u001b[0m \u001b[0max\u001b[0m\u001b[0;34m)\u001b[0m\u001b[0;34m\u001b[0m\u001b[0;34m\u001b[0m\u001b[0m\n",
      "\u001b[0;32m~/.local/lib/python3.6/site-packages/matplotlib/axes/_subplots.py\u001b[0m in \u001b[0;36m__init__\u001b[0;34m(self, fig, *args, **kwargs)\u001b[0m\n\u001b[1;32m     37\u001b[0m \u001b[0;34m\u001b[0m\u001b[0m\n\u001b[1;32m     38\u001b[0m         \u001b[0mself\u001b[0m\u001b[0;34m.\u001b[0m\u001b[0mfigure\u001b[0m \u001b[0;34m=\u001b[0m \u001b[0mfig\u001b[0m\u001b[0;34m\u001b[0m\u001b[0;34m\u001b[0m\u001b[0m\n\u001b[0;32m---> 39\u001b[0;31m         \u001b[0mself\u001b[0m\u001b[0;34m.\u001b[0m\u001b[0m_subplotspec\u001b[0m \u001b[0;34m=\u001b[0m \u001b[0mSubplotSpec\u001b[0m\u001b[0;34m.\u001b[0m\u001b[0m_from_subplot_args\u001b[0m\u001b[0;34m(\u001b[0m\u001b[0mfig\u001b[0m\u001b[0;34m,\u001b[0m \u001b[0margs\u001b[0m\u001b[0;34m)\u001b[0m\u001b[0;34m\u001b[0m\u001b[0;34m\u001b[0m\u001b[0m\n\u001b[0m\u001b[1;32m     40\u001b[0m         \u001b[0mself\u001b[0m\u001b[0;34m.\u001b[0m\u001b[0mupdate_params\u001b[0m\u001b[0;34m(\u001b[0m\u001b[0;34m)\u001b[0m\u001b[0;34m\u001b[0m\u001b[0;34m\u001b[0m\u001b[0m\n\u001b[1;32m     41\u001b[0m         \u001b[0;31m# _axes_class is set in the subplot_class_factory\u001b[0m\u001b[0;34m\u001b[0m\u001b[0;34m\u001b[0m\u001b[0;34m\u001b[0m\u001b[0m\n",
      "\u001b[0;32m~/.local/lib/python3.6/site-packages/matplotlib/gridspec.py\u001b[0m in \u001b[0;36m_from_subplot_args\u001b[0;34m(figure, args)\u001b[0m\n\u001b[1;32m    691\u001b[0m                 \u001b[0;32mreturn\u001b[0m \u001b[0mgs\u001b[0m\u001b[0;34m[\u001b[0m\u001b[0mnum\u001b[0m \u001b[0;34m-\u001b[0m \u001b[0;36m1\u001b[0m\u001b[0;34m]\u001b[0m   \u001b[0;31m# -1 due to MATLAB indexing.\u001b[0m\u001b[0;34m\u001b[0m\u001b[0;34m\u001b[0m\u001b[0m\n\u001b[1;32m    692\u001b[0m         \u001b[0;32melse\u001b[0m\u001b[0;34m:\u001b[0m\u001b[0;34m\u001b[0m\u001b[0;34m\u001b[0m\u001b[0m\n\u001b[0;32m--> 693\u001b[0;31m             raise TypeError(f\"subplot() takes 1 or 3 positional arguments but \"\n\u001b[0m\u001b[1;32m    694\u001b[0m                             f\"{len(args)} were given\")\n\u001b[1;32m    695\u001b[0m \u001b[0;34m\u001b[0m\u001b[0m\n",
      "\u001b[0;31mTypeError\u001b[0m: subplot() takes 1 or 3 positional arguments but 2 were given"
     ]
    },
    {
     "data": {
      "text/plain": [
       "<Figure size 432x288 with 0 Axes>"
      ]
     },
     "metadata": {},
     "output_type": "display_data"
    }
   ],
   "source": [
    "array = np.random.randint(1,100, (5,10,20), dtype=int)\n",
    "x = np.mean(array, 0)\n",
    "sumX = np.sum(array,0)\n",
    "\n",
    "fig, ax = plt.subplot(3, 1)\n",
    "ax[1] = plt.plot(sumX)\n"
   ]
  },
  {
   "cell_type": "markdown",
   "metadata": {
    "id": "FOwf22Gfy2U8"
   },
   "source": [
    "### LITERATURA\n",
    "\n",
    "1.   Datacamp NumPy [cheatsheet](https://s3.amazonaws.com/assets.datacamp.com/blog_assets/Numpy_Python_Cheat_Sheet.pdf)\n",
    "2.   [numpy for MATLAB users](https://docs.scipy.org/doc/numpy/user/numpy-for-matlab-users.html)\n",
    "3.  Numpy [reference](https://docs.scipy.org/doc/numpy/reference/)\n",
    "4. Matplotlib [docs](https://matplotlib.org/3.1.1/api/index.html)\n",
    "5. Matplotlib [tutorial](https://matplotlib.org/tutorials/index.html)\n",
    "\n",
    "\n"
   ]
  }
 ],
 "metadata": {
  "colab": {
   "collapsed_sections": [],
   "provenance": []
  },
  "kernelspec": {
   "display_name": "Python 3",
   "language": "python",
   "name": "python3"
  },
  "language_info": {
   "codemirror_mode": {
    "name": "ipython",
    "version": 3
   },
   "file_extension": ".py",
   "mimetype": "text/x-python",
   "name": "python",
   "nbconvert_exporter": "python",
   "pygments_lexer": "ipython3",
   "version": "3.6.8"
  },
  "vscode": {
   "interpreter": {
    "hash": "b0fa6594d8f4cbf19f97940f81e996739fb7646882a419484c72d19e05852a7e"
   }
  }
 },
 "nbformat": 4,
 "nbformat_minor": 4
}
